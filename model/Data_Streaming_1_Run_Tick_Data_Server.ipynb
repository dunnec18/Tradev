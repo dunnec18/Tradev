{
 "cells": [
  {
   "cell_type": "markdown",
   "id": "1e4eab5d",
   "metadata": {},
   "source": [
    "# Data Streaming 1: Running a Tick Data Server\n",
    "\n",
    "# Contents\n",
    "\n",
    "## 1. Running a Tick Data Server\n",
    "    - Generate data with geometric brownian motion\n",
    "    - Create a socket using ZeroMQ and publish data to socket\n",
    "\n",
    "# See other notebook for the following\n",
    "## 2. Connecting a Tick Data Client\n",
    "\n",
    "## 3. Real Time Signal Generation \n",
    "\n",
    "## 4. Plotting Streaming Data"
   ]
  },
  {
   "cell_type": "code",
   "execution_count": 1,
   "id": "28be98ee",
   "metadata": {},
   "outputs": [],
   "source": [
    "import zmq\n",
    "import math\n",
    "import time\n",
    "import random"
   ]
  },
  {
   "cell_type": "markdown",
   "id": "27e4b711",
   "metadata": {},
   "source": [
    "# 1. Running a Tick Data Server"
   ]
  },
  {
   "cell_type": "code",
   "execution_count": 2,
   "id": "83430840",
   "metadata": {},
   "outputs": [
    {
     "data": {
      "text/plain": [
       "<SocketContext(bind='tcp://0.0.0.0:5555')>"
      ]
     },
     "execution_count": 2,
     "metadata": {},
     "output_type": "execute_result"
    }
   ],
   "source": [
    "context = zmq.Context()\n",
    "socket = context.socket(zmq.PUB)\n",
    "socket.bind('tcp://0.0.0.0:5555')"
   ]
  },
  {
   "cell_type": "code",
   "execution_count": 3,
   "id": "ecae82c9",
   "metadata": {},
   "outputs": [],
   "source": [
    "class InstrumentPrice(object): \n",
    "    def __init__(self):\n",
    "        self.symbol = 'SYMBOL'\n",
    "        self.t = time.time()\n",
    "        self.value = 100.\n",
    "        self.sigma = 0.4\n",
    "        self.r = 0.01\n",
    "    def simulate_value(self):\n",
    "        ''' Generates a new, random stock price. '''\n",
    "        t = time.time()\n",
    "        dt=(t-self.t)/(252*8*60*60)\n",
    "        dt *= 500\n",
    "        self.t = t\n",
    "        self.value *= math.exp((self.r - 0.5 * self.sigma ** 2) * dt + self.sigma * math.sqrt(dt) * random.gauss(0, 1))\n",
    "        return self.value"
   ]
  },
  {
   "cell_type": "code",
   "execution_count": 4,
   "id": "557634a0",
   "metadata": {},
   "outputs": [
    {
     "name": "stdout",
     "output_type": "stream",
     "text": [
      "SYMBOL 129.56\r"
     ]
    },
    {
     "ename": "KeyboardInterrupt",
     "evalue": "",
     "output_type": "error",
     "traceback": [
      "\u001b[0;31m---------------------------------------------------------------------------\u001b[0m",
      "\u001b[0;31mKeyboardInterrupt\u001b[0m                         Traceback (most recent call last)",
      "Cell \u001b[0;32mIn[4], line 6\u001b[0m\n\u001b[1;32m      4\u001b[0m \u001b[38;5;28mprint\u001b[39m(msg, end\u001b[38;5;241m=\u001b[39m\u001b[38;5;124m'\u001b[39m\u001b[38;5;130;01m\\r\u001b[39;00m\u001b[38;5;124m'\u001b[39m)\n\u001b[1;32m      5\u001b[0m socket\u001b[38;5;241m.\u001b[39msend_string(msg)\n\u001b[0;32m----> 6\u001b[0m \u001b[43mtime\u001b[49m\u001b[38;5;241;43m.\u001b[39;49m\u001b[43msleep\u001b[49m\u001b[43m(\u001b[49m\u001b[43mrandom\u001b[49m\u001b[38;5;241;43m.\u001b[39;49m\u001b[43mrandom\u001b[49m\u001b[43m(\u001b[49m\u001b[43m)\u001b[49m\u001b[43m \u001b[49m\u001b[38;5;241;43m*\u001b[39;49m\u001b[43m \u001b[49m\u001b[38;5;241;43m2\u001b[39;49m\u001b[43m)\u001b[49m\n",
      "\u001b[0;31mKeyboardInterrupt\u001b[0m: "
     ]
    }
   ],
   "source": [
    "ip = InstrumentPrice()\n",
    "while True:\n",
    "    msg = '{} {:.2f}'.format(ip.symbol, ip.simulate_value()) \n",
    "    print(msg, end='\\r')\n",
    "    socket.send_string(msg)\n",
    "    time.sleep(random.random() * 2)"
   ]
  }
 ],
 "metadata": {
  "kernelspec": {
   "display_name": "Python 3 (ipykernel)",
   "language": "python",
   "name": "python3"
  },
  "language_info": {
   "codemirror_mode": {
    "name": "ipython",
    "version": 3
   },
   "file_extension": ".py",
   "mimetype": "text/x-python",
   "name": "python",
   "nbconvert_exporter": "python",
   "pygments_lexer": "ipython3",
   "version": "3.10.10"
  }
 },
 "nbformat": 4,
 "nbformat_minor": 5
}
