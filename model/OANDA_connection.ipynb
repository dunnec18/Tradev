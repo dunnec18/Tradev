{
 "cells": [
  {
   "cell_type": "markdown",
   "id": "8914b1a5",
   "metadata": {},
   "source": [
    "# Connecting to OANDA"
   ]
  },
  {
   "cell_type": "code",
   "execution_count": null,
   "id": "89881094",
   "metadata": {},
   "outputs": [],
   "source": [
    "import tpqoa"
   ]
  },
  {
   "cell_type": "code",
   "execution_count": null,
   "id": "d185f787",
   "metadata": {},
   "outputs": [],
   "source": [
    "oanda = tpqoa.tpqoa('pyalgo.cfg')"
   ]
  },
  {
   "cell_type": "code",
   "execution_count": null,
   "id": "e60b3ba0",
   "metadata": {},
   "outputs": [],
   "source": [
    "ins = oanda.get_instruments()"
   ]
  },
  {
   "cell_type": "code",
   "execution_count": null,
   "id": "a62bb4f6",
   "metadata": {},
   "outputs": [],
   "source": [
    "help(oanda.get_history)"
   ]
  },
  {
   "cell_type": "code",
   "execution_count": null,
   "id": "7c8e2eb7",
   "metadata": {},
   "outputs": [],
   "source": [
    "data = oanda.get_history(instrument='EUR_USD',\n",
    "                  start='2020-07-01',\n",
    "                  end='2021-05-31',\n",
    "                  granularity='D',\n",
    "                  price='A')"
   ]
  },
  {
   "cell_type": "code",
   "execution_count": null,
   "id": "5c89e562",
   "metadata": {},
   "outputs": [],
   "source": [
    "data.info()"
   ]
  },
  {
   "cell_type": "code",
   "execution_count": null,
   "id": "c94b4ddb",
   "metadata": {},
   "outputs": [],
   "source": [
    "print(data.head())"
   ]
  }
 ],
 "metadata": {
  "kernelspec": {
   "display_name": "Python 3 (ipykernel)",
   "language": "python",
   "name": "python3"
  },
  "language_info": {
   "codemirror_mode": {
    "name": "ipython",
    "version": 3
   },
   "file_extension": ".py",
   "mimetype": "text/x-python",
   "name": "python",
   "nbconvert_exporter": "python",
   "pygments_lexer": "ipython3",
   "version": "3.10.10"
  }
 },
 "nbformat": 4,
 "nbformat_minor": 5
}
